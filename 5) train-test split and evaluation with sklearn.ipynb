{
 "cells": [
  {
   "cell_type": "markdown",
   "id": "13153631",
   "metadata": {},
   "source": [
    "Additional libraries (not used for regression)"
   ]
  },
  {
   "cell_type": "code",
   "execution_count": 4,
   "id": "21a29511",
   "metadata": {},
   "outputs": [],
   "source": [
    "import pandas as pd\n",
    "import numpy as np\n",
    "import matplotlib.pyplot as plt\n",
    "import seaborn as sns\n",
    "%matplotlib inline \n",
    "import warnings #ignore the errors for newer version of distplot\n",
    "warnings.filterwarnings(\"ignore\", category=UserWarning) "
   ]
  },
  {
   "cell_type": "markdown",
   "id": "13356ad9",
   "metadata": {},
   "source": [
    "Libraries for regression in scikit-learn"
   ]
  },
  {
   "cell_type": "code",
   "execution_count": 5,
   "id": "6798a57a",
   "metadata": {},
   "outputs": [],
   "source": [
    "from sklearn.linear_model import LinearRegression #for linear (parameter) regression\n",
    "from sklearn.metrics import mean_squared_error #for MSE error\n",
    "from sklearn.metrics import r2_score #for the R^2 score on muliple variable regression\n",
    "from sklearn.preprocessing import PolynomialFeatures #to do a polynomial regression"
   ]
  },
  {
   "cell_type": "markdown",
   "id": "79cc7728",
   "metadata": {},
   "source": [
    "Libraries for train-test and model evaluation"
   ]
  },
  {
   "cell_type": "code",
   "execution_count": null,
   "id": "69419ef2",
   "metadata": {},
   "outputs": [],
   "source": [
    "\n",
    "from sklearn.model_selection import train_test_split #train-test splitting\n",
    "from sklearn.linear_model import Ridge\n",
    "from sklearn.model_selection import cross_val_score #K-fold validation\n",
    "from sklearn.model_selection import cross_val_predict #K-fold validation\n",
    "from sklearn.model_selection import GridSearchCV #for GridSearchCV"
   ]
  },
  {
   "cell_type": "markdown",
   "id": "bb186538",
   "metadata": {},
   "source": [
    "Database for this notebook"
   ]
  },
  {
   "cell_type": "code",
   "execution_count": 18,
   "id": "06805a9c",
   "metadata": {},
   "outputs": [
    {
     "name": "stdout",
     "output_type": "stream",
     "text": [
      "In this database there are m = 201 data with D = 19 features.\n",
      "There are 4 null values in the column stroke\n"
     ]
    },
    {
     "data": {
      "text/html": [
       "<div>\n",
       "<style scoped>\n",
       "    .dataframe tbody tr th:only-of-type {\n",
       "        vertical-align: middle;\n",
       "    }\n",
       "\n",
       "    .dataframe tbody tr th {\n",
       "        vertical-align: top;\n",
       "    }\n",
       "\n",
       "    .dataframe thead th {\n",
       "        text-align: right;\n",
       "    }\n",
       "</style>\n",
       "<table border=\"1\" class=\"dataframe\">\n",
       "  <thead>\n",
       "    <tr style=\"text-align: right;\">\n",
       "      <th></th>\n",
       "      <th>symboling</th>\n",
       "      <th>normalized-losses</th>\n",
       "      <th>wheel-base</th>\n",
       "      <th>length</th>\n",
       "      <th>width</th>\n",
       "      <th>height</th>\n",
       "      <th>curb-weight</th>\n",
       "      <th>engine-size</th>\n",
       "      <th>bore</th>\n",
       "      <th>stroke</th>\n",
       "      <th>compression-ratio</th>\n",
       "      <th>horsepower</th>\n",
       "      <th>peak-rpm</th>\n",
       "      <th>city-mpg</th>\n",
       "      <th>highway-mpg</th>\n",
       "      <th>price</th>\n",
       "      <th>city-L/100km</th>\n",
       "      <th>diesel</th>\n",
       "      <th>gas</th>\n",
       "    </tr>\n",
       "  </thead>\n",
       "  <tbody>\n",
       "    <tr>\n",
       "      <th>0</th>\n",
       "      <td>3</td>\n",
       "      <td>122</td>\n",
       "      <td>-1.68091</td>\n",
       "      <td>-0.438315</td>\n",
       "      <td>-0.851335</td>\n",
       "      <td>-2.029015</td>\n",
       "      <td>2548</td>\n",
       "      <td>130</td>\n",
       "      <td>0.519668</td>\n",
       "      <td>-1.807024</td>\n",
       "      <td>-0.290709</td>\n",
       "      <td>0.203247</td>\n",
       "      <td>-0.246103</td>\n",
       "      <td>21</td>\n",
       "      <td>27</td>\n",
       "      <td>0.036224</td>\n",
       "      <td>0.491727</td>\n",
       "      <td>0</td>\n",
       "      <td>1</td>\n",
       "    </tr>\n",
       "    <tr>\n",
       "      <th>1</th>\n",
       "      <td>3</td>\n",
       "      <td>122</td>\n",
       "      <td>-1.68091</td>\n",
       "      <td>-0.438315</td>\n",
       "      <td>-0.851335</td>\n",
       "      <td>-2.029015</td>\n",
       "      <td>2548</td>\n",
       "      <td>130</td>\n",
       "      <td>0.519668</td>\n",
       "      <td>-1.807024</td>\n",
       "      <td>-0.290709</td>\n",
       "      <td>0.203247</td>\n",
       "      <td>-0.246103</td>\n",
       "      <td>21</td>\n",
       "      <td>27</td>\n",
       "      <td>0.414350</td>\n",
       "      <td>0.491727</td>\n",
       "      <td>0</td>\n",
       "      <td>1</td>\n",
       "    </tr>\n",
       "  </tbody>\n",
       "</table>\n",
       "</div>"
      ],
      "text/plain": [
       "   symboling  normalized-losses  wheel-base    length     width    height  \\\n",
       "0          3                122    -1.68091 -0.438315 -0.851335 -2.029015   \n",
       "1          3                122    -1.68091 -0.438315 -0.851335 -2.029015   \n",
       "\n",
       "   curb-weight  engine-size      bore    stroke  compression-ratio  \\\n",
       "0         2548          130  0.519668 -1.807024          -0.290709   \n",
       "1         2548          130  0.519668 -1.807024          -0.290709   \n",
       "\n",
       "   horsepower  peak-rpm  city-mpg  highway-mpg     price  city-L/100km  \\\n",
       "0    0.203247 -0.246103        21           27  0.036224      0.491727   \n",
       "1    0.203247 -0.246103        21           27  0.414350      0.491727   \n",
       "\n",
       "   diesel  gas  \n",
       "0       0    1  \n",
       "1       0    1  "
      ]
     },
     "execution_count": 18,
     "metadata": {},
     "output_type": "execute_result"
    }
   ],
   "source": [
    "url='https://cf-courses-data.s3.us.cloud-object-storage.appdomain.cloud/IBMDeveloperSkillsNetwork-DA0101EN-SkillsNetwork/labs/Data%20files/module_5_auto.csv'\n",
    "df=pd.read_csv(url)._get_numeric_data().drop(['Unnamed: 0.1','Unnamed: 0'],axis=1)\n",
    "print('In this database there are m =',df.shape[0],'data with D =',df.shape[1],'features.')\n",
    "\n",
    "def NaN_value_finder(dataframe):\n",
    "    dataframe=dataframe.replace('?',np.nan)\n",
    "    missing_data = dataframe.isnull()\n",
    "    missing_dict=dict()\n",
    "    missing_index=list()\n",
    "    for column in missing_data.columns.values.tolist():\n",
    "        for i,value in enumerate(missing_data[column]):\n",
    "            if missing_data[column][i]==True:\n",
    "                missing_index.append(i)\n",
    "                missing_dict[column]=missing_dict.get(column,0)+1\n",
    "    for i,value in enumerate(missing_dict):\n",
    "        print('There are', missing_dict[value], 'null values in the column',value)\n",
    "    return missing_dict, missing_index\n",
    "\n",
    "def Z_score_normalization(df, type):\n",
    "    for i, value in enumerate(df.columns):\n",
    "        if df[value].dtype.name == type:\n",
    "            df[value] = (df[value] - df[value].mean()) / df[value].std()\n",
    "            # df.rename(columns={value: 'Z-normalized ' + value}, inplace=True)\n",
    "    \n",
    "Z_score_normalization(df,'float64')\n",
    "\n",
    "NaN_value_finder(df)\n",
    "\n",
    "df.head(2)"
   ]
  },
  {
   "cell_type": "markdown",
   "id": "fb0303ac-6c83-4077-a6f4-16fe013961f6",
   "metadata": {
    "jp-MarkdownHeadingCollapsed": true
   },
   "source": [
    "# Split the data in training and test: evaluate the performance on the test set"
   ]
  },
  {
   "cell_type": "markdown",
   "id": "6e0a8dfc-914f-4303-9d85-013a8dee03e0",
   "metadata": {},
   "source": [
    "We divide in training and test set:"
   ]
  },
  {
   "cell_type": "code",
   "execution_count": 23,
   "id": "cc93b44e",
   "metadata": {},
   "outputs": [
    {
     "name": "stdout",
     "output_type": "stream",
     "text": [
      "(180, 4) (21, 4) (180,) (21,) 0.9\n"
     ]
    }
   ],
   "source": [
    "multiple=['horsepower','curb-weight','engine-size','highway-mpg']\n",
    "target='price'\n",
    "X = df[multiple] ##fundamental to insert two [[]]\n",
    "y = df[target]\n",
    "train_size=0.9\n",
    "X_train, X_test, y_train, y_test = train_test_split(X,y, test_size=1-train_size, random_state=1) #test_size =0.1 means that we use 10% of dataset as test\n",
    "print(X_train.shape,X_test.shape,y_train.shape, y_test.shape,train_size)"
   ]
  },
  {
   "cell_type": "markdown",
   "id": "eb2b4cbb",
   "metadata": {},
   "source": [
    "Then we train the linear model using the train data, and compute the $R^2$-score and MSE on it:"
   ]
  },
  {
   "cell_type": "code",
   "execution_count": 29,
   "id": "23e6fb9c",
   "metadata": {},
   "outputs": [
    {
     "name": "stdout",
     "output_type": "stream",
     "text": [
      "For a train-size equal to 90.0 %, the MSE and R-score on the training set are 0.1961638832442958 and 0.8142470221363208 ,respectively.\n"
     ]
    },
    {
     "data": {
      "image/png": "[encoded data removed]",
      "text/plain": [
       "<Figure size 200x200 with 1 Axes>"
      ]
     },
     "metadata": {},
     "output_type": "display_data"
    }
   ],
   "source": [
    "lm=LinearRegression()\n",
    "lm.fit(X_train,y_train)\n",
    "yhat_train=lm.predict(X_train)\n",
    "MSE_train=mean_squared_error(y_train,yhat_train)\n",
    "r2_train=r2_score(y_train,yhat_train)\n",
    "print('For a train-size equal to',train_size*100,'%, the MSE and R-score on the training set are',MSE_train,'and',r2_train,',respectively.')\n",
    "\n",
    "plt.figure(figsize=(2, 2))\n",
    "ax1=sns.distplot(y_train,hist=False,color='r',label='Actual Values')\n",
    "ax2=sns.distplot(yhat_train,hist=False,color='b',label='Predicted Values',ax=ax1)\n",
    "plt.show()\n",
    "plt.close()"
   ]
  },
  {
   "cell_type": "markdown",
   "id": "96a3ba77",
   "metadata": {},
   "source": [
    "So the fit is good. Since the fit is good, we can now see if the model is good also on the test set:"
   ]
  },
  {
   "cell_type": "code",
   "execution_count": 33,
   "id": "2dd48ab7-dc51-480b-890d-adbfcebecb38",
   "metadata": {},
   "outputs": [
    {
     "name": "stdout",
     "output_type": "stream",
     "text": [
      "For a train-size equal to 90.0 %, the MSE and R-score on the test set are 0.13776916890439075 and 0.6070423045768709 ,respectively.\n",
      "WE have MSE_test-MSE_train = -0.058394714339905035 and r2_test-r2_train = -0.2072047175594499\n"
     ]
    },
    {
     "data": {
      "image/png": "[encoded data removed]",
      "text/plain": [
       "<Figure size 600x300 with 2 Axes>"
      ]
     },
     "metadata": {},
     "output_type": "display_data"
    }
   ],
   "source": [
    "yhat_test=lm.predict(X_test)\n",
    "MSE_test=mean_squared_error(y_test,yhat_test)\n",
    "r2_test=r2_score(y_test,yhat_test)\n",
    "print('For a train-size equal to',train_size*100,'%, the MSE and R-score on the test set are',MSE_test,'and',r2_test,',respectively.')\n",
    "\n",
    "print ('WE have MSE_test-MSE_train =',MSE_test-MSE_train,'and r2_test-r2_train =',r2_test-r2_train)\n",
    "\n",
    "def mykdeplot(y_train,y_test,yhat_train, yhat_test):\n",
    "    \n",
    "    fig, axes = plt.subplots(1, 2, figsize=(6, 3))  # 1 riga, 2 colonne\n",
    "\n",
    "    # Primo plot: Train\n",
    "    sns.kdeplot(y_train, color=\"r\", label='y_train', ax=axes[0])\n",
    "    sns.kdeplot(yhat_train, color=\"b\", label='yhat_train', ax=axes[0])\n",
    "    axes[0].set_title('Train')\n",
    "\n",
    "    # Secondo plot: Test\n",
    "    sns.kdeplot(y_test, color=\"r\", label='y_test', ax=axes[1])\n",
    "    sns.kdeplot(yhat_test, color=\"b\", label='yhat_test', ax=axes[1])\n",
    "    axes[1].set_title('Test')\n",
    "\n",
    "    plt.tight_layout()\n",
    "    plt.show()\n",
    "    plt.close()\n",
    "\n",
    "mykdeplot(y_train, y_test,yhat_train, yhat_test)"
   ]
  },
  {
   "cell_type": "markdown",
   "id": "d7ed7b08",
   "metadata": {},
   "source": [
    "# K-fold validation"
   ]
  },
  {
   "cell_type": "markdown",
   "id": "49eae55b",
   "metadata": {},
   "source": [
    "Here we do K-fold validation. Since before we have used a train_size of 0.9, we do 10-folds validation. The entire X is divided in 10 parts, and the train is done on $9/10$. Then we can take the mean and the std of the array of the scores: if the medium is near to the $R^2$ computed before and the std is low, the model is stable:"
   ]
  },
  {
   "cell_type": "code",
   "execution_count": 42,
   "id": "b808905e-49bb-426e-a47e-9426b9ca5c71",
   "metadata": {},
   "outputs": [
    {
     "name": "stdout",
     "output_type": "stream",
     "text": [
      "[ 0.66184045  0.14257918  0.7822969   0.7242706  -1.5499792   0.48974783\n",
      "  0.60890719  0.53319587 -0.88559576  0.70833441] \n",
      "\n",
      "0.2215597466810424 0.7541486911047932\n"
     ]
    }
   ],
   "source": [
    "lm=LinearRegression()\n",
    "scores=cross_val_score(lm,X,y,cv=10) #this is a numpy array containing the R^2-score computed on the test set (1/10) with model trained on the train set (9/10)\n",
    "yhat=cross_val_predict(lm,X,y,cv=10)\n",
    "\n",
    "#print(yhat)\n",
    "print(scores,'\\n')\n",
    "\n",
    "print(scores.mean(),scores.std())"
   ]
  },
  {
   "cell_type": "markdown",
   "id": "9f9e33bb-4bb8-40b8-a7f8-d022397d0c7f",
   "metadata": {
    "jp-MarkdownHeadingCollapsed": true
   },
   "source": [
    "# Underfitting, Overfitting"
   ]
  },
  {
   "cell_type": "markdown",
   "id": "6c23808f-e3a5-40f2-8707-bfa7757de7e4",
   "metadata": {},
   "source": [
    "We now study the underfitting and overfitting using the standard plot (x=complexity of the model, y= train and test error). In this case, the complexity can be represented by the order of the polynomial fit. We use a single variable x for semplicity."
   ]
  },
  {
   "cell_type": "code",
   "execution_count": 78,
   "id": "8df020ae-b851-4449-a162-36ef3afb6eb7",
   "metadata": {},
   "outputs": [
    {
     "name": "stdout",
     "output_type": "stream",
     "text": [
      "[0.37453535445963615, 0.37194046720059537, 0.3593487951644633, 0.3503337788789574, 0.345473539367879, 0.330620946633325, 0.30656108076057537, 0.30198218617275335, 0.290074306254194, 0.23972108731384606, 0.22505061091930298, 0.2222491478443719, 0.21030563216176354] \n",
      "\n",
      "[0.30537805919205024, 0.30340979017802183, 0.31099494933307614, 0.3144044588840271, 0.30271216878183077, 0.3147931219539564, 0.2689931945431479, 0.2662254094540164, 0.32845538196483404, 0.3102005290882935, 0.2776395117524348, 0.27401153372946985, 0.5995702908848218]\n"
     ]
    },
    {
     "data": {
      "text/plain": [
       "[<matplotlib.lines.Line2D at 0x12cf12210>]"
      ]
     },
     "execution_count": 78,
     "metadata": {},
     "output_type": "execute_result"
    },
    {
     "data": {
      "image/png": "[encoded data removed]",
      "text/plain": [
       "<Figure size 640x480 with 1 Axes>"
      ]
     },
     "metadata": {},
     "output_type": "display_data"
    }
   ],
   "source": [
    "single=['horsepower']\n",
    "target='price'\n",
    "x = df[single] #fundamental to insert two [[]]\n",
    "y = df[target]\n",
    "\n",
    "x_train, x_test, y_train, y_test = train_test_split(x,y, test_size=0.45, random_state=1)\n",
    "\n",
    "lm=LinearRegression()\n",
    "MSE_train=list()\n",
    "MSE_test=list()\n",
    "for n in list(range(1,14)):\n",
    "    pm=PolynomialFeatures(degree=n,include_bias=True)\n",
    "    x_train_poly=pm.fit_transform(x_train)\n",
    "    x_test_poly=pm.fit_transform(x_test)\n",
    "    lm.fit(x_train_poly,y_train)\n",
    "    yhat_train=lm.predict(x_train_poly)\n",
    "    yhat_test=lm.predict(x_test_poly)\n",
    "    MSE_train.append(mean_squared_error(y_train,yhat_train))\n",
    "    MSE_test.append(mean_squared_error(y_test,yhat_test))\n",
    "\n",
    "print(MSE_train,'\\n')\n",
    "print(MSE_test)\n",
    "plt.plot(list(range(1,14)),MSE_train,color='blue')\n",
    "plt.plot(list(range(1,14)),MSE_test,color='red')"
   ]
  },
  {
   "cell_type": "markdown",
   "id": "977447ea",
   "metadata": {},
   "source": [
    "# Ridge regression"
   ]
  },
  {
   "cell_type": "markdown",
   "id": "64726d0b",
   "metadata": {},
   "source": [
    "Ridge regression is a regularizator of the cost function; in particular in comes from a gaussian prior. The hyperparameter is called $\\alpha$ in scikit-learn:"
   ]
  },
  {
   "cell_type": "code",
   "execution_count": 84,
   "id": "9a5a0b0b-bf64-436e-a4b1-3ca182bd8cf2",
   "metadata": {},
   "outputs": [
    {
     "name": "stdout",
     "output_type": "stream",
     "text": [
      "0.3593487951644634 0.3109949493330761\n",
      "0.3671706322366195 0.31822712289689803\n",
      "0.38337107790732544 0.3321785004507499\n",
      "0.4021586285253358 0.34814907287033775\n",
      "0.4211224300630097 0.3641948354692757\n",
      "0.4392599217391611 0.3795147843375369\n",
      "0.45618952451915273 0.3938096952099122\n",
      "0.47181138889868 0.4070067610444702\n",
      "0.4861530611494738 0.4191347442205023\n",
      "0.49929669813315586 0.4302653226630947\n"
     ]
    }
   ],
   "source": [
    "pm=PolynomialFeatures(degree=3,include_bias=True)\n",
    "x_train_poly=pm.fit_transform(x_train)\n",
    "x_test_poly=pm.fit_transform(x_test)\n",
    "\n",
    "for hyperpar in np.linspace(0,100,10): #the 0-th value should be the third entry in the ouput of the previous 'Underfitting, Overfitting'\n",
    "\n",
    "    rm = Ridge(alpha=hyperpar) \n",
    "    rm.fit(x_train_poly, y_train)\n",
    "    yhat_train=rm.predict(x_train_poly)\n",
    "    yhat_test=rm.predict(x_test_poly)\n",
    "    print(mean_squared_error(y_train,yhat_train),mean_squared_error(y_test,yhat_test))\n",
    "\n",
    "\n"
   ]
  },
  {
   "cell_type": "code",
   "execution_count": null,
   "id": "f8df07dc",
   "metadata": {},
   "outputs": [
    {
     "data": {
      "text/plain": [
       "array([0.        , 0.11111111, 0.22222222, 0.33333333, 0.44444444,\n",
       "       0.55555556, 0.66666667, 0.77777778, 0.88888889, 1.        ])"
      ]
     },
     "execution_count": 80,
     "metadata": {},
     "output_type": "execute_result"
    }
   ],
   "source": []
  }
 ],
 "metadata": {
  "kernelspec": {
   "display_name": "Python 3",
   "language": "python",
   "name": "python3"
  },
  "language_info": {
   "codemirror_mode": {
    "name": "ipython",
    "version": 3
   },
   "file_extension": ".py",
   "mimetype": "text/x-python",
   "name": "python",
   "nbconvert_exporter": "python",
   "pygments_lexer": "ipython3",
   "version": "3.13.2"
  }
 },
 "nbformat": 4,
 "nbformat_minor": 5
}
